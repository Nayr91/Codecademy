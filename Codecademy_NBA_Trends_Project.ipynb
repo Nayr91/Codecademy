{
  "cells": [
    {
      "cell_type": "markdown",
      "metadata": {
        "id": "view-in-github",
        "colab_type": "text"
      },
      "source": [
        "<a href=\"https://colab.research.google.com/github/Nayr91/Codecademy/blob/master/Codecademy_NBA_Trends_Project.ipynb\" target=\"_parent\"><img src=\"https://colab.research.google.com/assets/colab-badge.svg\" alt=\"Open In Colab\"/></a>"
      ]
    },
    {
      "cell_type": "markdown",
      "metadata": {
        "id": "Xr8NN4kFvcc2"
      },
      "source": [
        "# Codecademy [NBA Trends Project](https://www.codecademy.com/projects/practice/nba-trends)\n",
        "\n",
        "*Analyze National Basketball Association (NBA) data to look at associations between teams, win-rates, playoff appearances, and more.*"
      ]
    },
    {
      "cell_type": "markdown",
      "metadata": {
        "id": "avGzIol_vcc5"
      },
      "source": [
        "In this project, you'll analyze data from the NBA (National Basketball Association) and explore possible associations.\n",
        "\n",
        "This data was originally sourced from 538's Analysis of the [Complete History Of The NBA](http://fivethirtyeight.com/interactives/the-complete-history-of-every-nba-team-by-elo) and contains the original, unmodified data from [Basketball Reference](http://www.basketball-reference.com/) as well as several additional variables 538 added to perform their own analysis.\n",
        "\n",
        "You can read more about the data and how it's being used by 538 [here](https://github.com/fivethirtyeight/data/tree/master/nba-elo). For this project we've limited the data to just 5 teams and 10 columns (plus one constructed column, `point_diff`, the difference between `pts` and `opp_pts`).\n",
        "\n",
        "You will create several charts and tables in this project, so you'll need to use `plt.clf()` between plots in your code so that the plots don't layer on top of one another.\n"
      ]
    },
    {
      "cell_type": "code",
      "execution_count": 2,
      "metadata": {
        "id": "uGMtaewMvcc5"
      },
      "outputs": [],
      "source": [
        "import pandas as pd\n",
        "import numpy as np\n",
        "from scipy.stats import pearsonr, chi2_contingency\n",
        "import matplotlib.pyplot as plt\n",
        "import seaborn as sns"
      ]
    },
    {
      "cell_type": "code",
      "execution_count": 3,
      "metadata": {
        "id": "bvEioXSQvcc6"
      },
      "outputs": [],
      "source": [
        "#to make the output look nicer\n",
        "np.set_printoptions(suppress=True, precision = 2)"
      ]
    },
    {
      "cell_type": "code",
      "execution_count": 7,
      "metadata": {
        "colab": {
          "base_uri": "https://localhost:8080/",
          "height": 226
        },
        "id": "Zfa3VueHvcc6",
        "outputId": "ff17aae3-b850-4e04-f645-5fe686234848"
      },
      "outputs": [
        {
          "output_type": "execute_result",
          "data": {
            "text/plain": [
              "        game_id  year_id  fran_id      opp_fran game_location  is_playoffs  \\\n",
              "0  194611010TRH     1947   Knicks       Huskies             A            0   \n",
              "1  194611020CHS     1947   Knicks         Stags             A            0   \n",
              "2  194611020PRO     1947  Celtics  Steamrollers             A            0   \n",
              "3  194611050BOS     1947  Celtics         Stags             H            0   \n",
              "4  194611070STB     1947   Knicks       Bombers             A            0   \n",
              "\n",
              "   pts  opp_pts game_result  forecast  point_diff  \n",
              "0   68       66           W  0.359935           2  \n",
              "1   47       63           L  0.368899         -16  \n",
              "2   53       59           L  0.359935          -6  \n",
              "3   55       57           L  0.620204          -2  \n",
              "4   68       63           W  0.339290           5  "
            ],
            "text/html": [
              "\n",
              "  <div id=\"df-3ac9ce0b-dd70-40c9-a6b7-e05cc947448f\" class=\"colab-df-container\">\n",
              "    <div>\n",
              "<style scoped>\n",
              "    .dataframe tbody tr th:only-of-type {\n",
              "        vertical-align: middle;\n",
              "    }\n",
              "\n",
              "    .dataframe tbody tr th {\n",
              "        vertical-align: top;\n",
              "    }\n",
              "\n",
              "    .dataframe thead th {\n",
              "        text-align: right;\n",
              "    }\n",
              "</style>\n",
              "<table border=\"1\" class=\"dataframe\">\n",
              "  <thead>\n",
              "    <tr style=\"text-align: right;\">\n",
              "      <th></th>\n",
              "      <th>game_id</th>\n",
              "      <th>year_id</th>\n",
              "      <th>fran_id</th>\n",
              "      <th>opp_fran</th>\n",
              "      <th>game_location</th>\n",
              "      <th>is_playoffs</th>\n",
              "      <th>pts</th>\n",
              "      <th>opp_pts</th>\n",
              "      <th>game_result</th>\n",
              "      <th>forecast</th>\n",
              "      <th>point_diff</th>\n",
              "    </tr>\n",
              "  </thead>\n",
              "  <tbody>\n",
              "    <tr>\n",
              "      <th>0</th>\n",
              "      <td>194611010TRH</td>\n",
              "      <td>1947</td>\n",
              "      <td>Knicks</td>\n",
              "      <td>Huskies</td>\n",
              "      <td>A</td>\n",
              "      <td>0</td>\n",
              "      <td>68</td>\n",
              "      <td>66</td>\n",
              "      <td>W</td>\n",
              "      <td>0.359935</td>\n",
              "      <td>2</td>\n",
              "    </tr>\n",
              "    <tr>\n",
              "      <th>1</th>\n",
              "      <td>194611020CHS</td>\n",
              "      <td>1947</td>\n",
              "      <td>Knicks</td>\n",
              "      <td>Stags</td>\n",
              "      <td>A</td>\n",
              "      <td>0</td>\n",
              "      <td>47</td>\n",
              "      <td>63</td>\n",
              "      <td>L</td>\n",
              "      <td>0.368899</td>\n",
              "      <td>-16</td>\n",
              "    </tr>\n",
              "    <tr>\n",
              "      <th>2</th>\n",
              "      <td>194611020PRO</td>\n",
              "      <td>1947</td>\n",
              "      <td>Celtics</td>\n",
              "      <td>Steamrollers</td>\n",
              "      <td>A</td>\n",
              "      <td>0</td>\n",
              "      <td>53</td>\n",
              "      <td>59</td>\n",
              "      <td>L</td>\n",
              "      <td>0.359935</td>\n",
              "      <td>-6</td>\n",
              "    </tr>\n",
              "    <tr>\n",
              "      <th>3</th>\n",
              "      <td>194611050BOS</td>\n",
              "      <td>1947</td>\n",
              "      <td>Celtics</td>\n",
              "      <td>Stags</td>\n",
              "      <td>H</td>\n",
              "      <td>0</td>\n",
              "      <td>55</td>\n",
              "      <td>57</td>\n",
              "      <td>L</td>\n",
              "      <td>0.620204</td>\n",
              "      <td>-2</td>\n",
              "    </tr>\n",
              "    <tr>\n",
              "      <th>4</th>\n",
              "      <td>194611070STB</td>\n",
              "      <td>1947</td>\n",
              "      <td>Knicks</td>\n",
              "      <td>Bombers</td>\n",
              "      <td>A</td>\n",
              "      <td>0</td>\n",
              "      <td>68</td>\n",
              "      <td>63</td>\n",
              "      <td>W</td>\n",
              "      <td>0.339290</td>\n",
              "      <td>5</td>\n",
              "    </tr>\n",
              "  </tbody>\n",
              "</table>\n",
              "</div>\n",
              "    <div class=\"colab-df-buttons\">\n",
              "\n",
              "  <div class=\"colab-df-container\">\n",
              "    <button class=\"colab-df-convert\" onclick=\"convertToInteractive('df-3ac9ce0b-dd70-40c9-a6b7-e05cc947448f')\"\n",
              "            title=\"Convert this dataframe to an interactive table.\"\n",
              "            style=\"display:none;\">\n",
              "\n",
              "  <svg xmlns=\"http://www.w3.org/2000/svg\" height=\"24px\" viewBox=\"0 -960 960 960\">\n",
              "    <path d=\"M120-120v-720h720v720H120Zm60-500h600v-160H180v160Zm220 220h160v-160H400v160Zm0 220h160v-160H400v160ZM180-400h160v-160H180v160Zm440 0h160v-160H620v160ZM180-180h160v-160H180v160Zm440 0h160v-160H620v160Z\"/>\n",
              "  </svg>\n",
              "    </button>\n",
              "\n",
              "  <style>\n",
              "    .colab-df-container {\n",
              "      display:flex;\n",
              "      gap: 12px;\n",
              "    }\n",
              "\n",
              "    .colab-df-convert {\n",
              "      background-color: #E8F0FE;\n",
              "      border: none;\n",
              "      border-radius: 50%;\n",
              "      cursor: pointer;\n",
              "      display: none;\n",
              "      fill: #1967D2;\n",
              "      height: 32px;\n",
              "      padding: 0 0 0 0;\n",
              "      width: 32px;\n",
              "    }\n",
              "\n",
              "    .colab-df-convert:hover {\n",
              "      background-color: #E2EBFA;\n",
              "      box-shadow: 0px 1px 2px rgba(60, 64, 67, 0.3), 0px 1px 3px 1px rgba(60, 64, 67, 0.15);\n",
              "      fill: #174EA6;\n",
              "    }\n",
              "\n",
              "    .colab-df-buttons div {\n",
              "      margin-bottom: 4px;\n",
              "    }\n",
              "\n",
              "    [theme=dark] .colab-df-convert {\n",
              "      background-color: #3B4455;\n",
              "      fill: #D2E3FC;\n",
              "    }\n",
              "\n",
              "    [theme=dark] .colab-df-convert:hover {\n",
              "      background-color: #434B5C;\n",
              "      box-shadow: 0px 1px 3px 1px rgba(0, 0, 0, 0.15);\n",
              "      filter: drop-shadow(0px 1px 2px rgba(0, 0, 0, 0.3));\n",
              "      fill: #FFFFFF;\n",
              "    }\n",
              "  </style>\n",
              "\n",
              "    <script>\n",
              "      const buttonEl =\n",
              "        document.querySelector('#df-3ac9ce0b-dd70-40c9-a6b7-e05cc947448f button.colab-df-convert');\n",
              "      buttonEl.style.display =\n",
              "        google.colab.kernel.accessAllowed ? 'block' : 'none';\n",
              "\n",
              "      async function convertToInteractive(key) {\n",
              "        const element = document.querySelector('#df-3ac9ce0b-dd70-40c9-a6b7-e05cc947448f');\n",
              "        const dataTable =\n",
              "          await google.colab.kernel.invokeFunction('convertToInteractive',\n",
              "                                                    [key], {});\n",
              "        if (!dataTable) return;\n",
              "\n",
              "        const docLinkHtml = 'Like what you see? Visit the ' +\n",
              "          '<a target=\"_blank\" href=https://colab.research.google.com/notebooks/data_table.ipynb>data table notebook</a>'\n",
              "          + ' to learn more about interactive tables.';\n",
              "        element.innerHTML = '';\n",
              "        dataTable['output_type'] = 'display_data';\n",
              "        await google.colab.output.renderOutput(dataTable, element);\n",
              "        const docLink = document.createElement('div');\n",
              "        docLink.innerHTML = docLinkHtml;\n",
              "        element.appendChild(docLink);\n",
              "      }\n",
              "    </script>\n",
              "  </div>\n",
              "\n",
              "\n",
              "<div id=\"df-324b36ab-9828-4dec-9180-e58899f229f2\">\n",
              "  <button class=\"colab-df-quickchart\" onclick=\"quickchart('df-324b36ab-9828-4dec-9180-e58899f229f2')\"\n",
              "            title=\"Suggest charts\"\n",
              "            style=\"display:none;\">\n",
              "\n",
              "<svg xmlns=\"http://www.w3.org/2000/svg\" height=\"24px\"viewBox=\"0 0 24 24\"\n",
              "     width=\"24px\">\n",
              "    <g>\n",
              "        <path d=\"M19 3H5c-1.1 0-2 .9-2 2v14c0 1.1.9 2 2 2h14c1.1 0 2-.9 2-2V5c0-1.1-.9-2-2-2zM9 17H7v-7h2v7zm4 0h-2V7h2v10zm4 0h-2v-4h2v4z\"/>\n",
              "    </g>\n",
              "</svg>\n",
              "  </button>\n",
              "\n",
              "<style>\n",
              "  .colab-df-quickchart {\n",
              "      --bg-color: #E8F0FE;\n",
              "      --fill-color: #1967D2;\n",
              "      --hover-bg-color: #E2EBFA;\n",
              "      --hover-fill-color: #174EA6;\n",
              "      --disabled-fill-color: #AAA;\n",
              "      --disabled-bg-color: #DDD;\n",
              "  }\n",
              "\n",
              "  [theme=dark] .colab-df-quickchart {\n",
              "      --bg-color: #3B4455;\n",
              "      --fill-color: #D2E3FC;\n",
              "      --hover-bg-color: #434B5C;\n",
              "      --hover-fill-color: #FFFFFF;\n",
              "      --disabled-bg-color: #3B4455;\n",
              "      --disabled-fill-color: #666;\n",
              "  }\n",
              "\n",
              "  .colab-df-quickchart {\n",
              "    background-color: var(--bg-color);\n",
              "    border: none;\n",
              "    border-radius: 50%;\n",
              "    cursor: pointer;\n",
              "    display: none;\n",
              "    fill: var(--fill-color);\n",
              "    height: 32px;\n",
              "    padding: 0;\n",
              "    width: 32px;\n",
              "  }\n",
              "\n",
              "  .colab-df-quickchart:hover {\n",
              "    background-color: var(--hover-bg-color);\n",
              "    box-shadow: 0 1px 2px rgba(60, 64, 67, 0.3), 0 1px 3px 1px rgba(60, 64, 67, 0.15);\n",
              "    fill: var(--button-hover-fill-color);\n",
              "  }\n",
              "\n",
              "  .colab-df-quickchart-complete:disabled,\n",
              "  .colab-df-quickchart-complete:disabled:hover {\n",
              "    background-color: var(--disabled-bg-color);\n",
              "    fill: var(--disabled-fill-color);\n",
              "    box-shadow: none;\n",
              "  }\n",
              "\n",
              "  .colab-df-spinner {\n",
              "    border: 2px solid var(--fill-color);\n",
              "    border-color: transparent;\n",
              "    border-bottom-color: var(--fill-color);\n",
              "    animation:\n",
              "      spin 1s steps(1) infinite;\n",
              "  }\n",
              "\n",
              "  @keyframes spin {\n",
              "    0% {\n",
              "      border-color: transparent;\n",
              "      border-bottom-color: var(--fill-color);\n",
              "      border-left-color: var(--fill-color);\n",
              "    }\n",
              "    20% {\n",
              "      border-color: transparent;\n",
              "      border-left-color: var(--fill-color);\n",
              "      border-top-color: var(--fill-color);\n",
              "    }\n",
              "    30% {\n",
              "      border-color: transparent;\n",
              "      border-left-color: var(--fill-color);\n",
              "      border-top-color: var(--fill-color);\n",
              "      border-right-color: var(--fill-color);\n",
              "    }\n",
              "    40% {\n",
              "      border-color: transparent;\n",
              "      border-right-color: var(--fill-color);\n",
              "      border-top-color: var(--fill-color);\n",
              "    }\n",
              "    60% {\n",
              "      border-color: transparent;\n",
              "      border-right-color: var(--fill-color);\n",
              "    }\n",
              "    80% {\n",
              "      border-color: transparent;\n",
              "      border-right-color: var(--fill-color);\n",
              "      border-bottom-color: var(--fill-color);\n",
              "    }\n",
              "    90% {\n",
              "      border-color: transparent;\n",
              "      border-bottom-color: var(--fill-color);\n",
              "    }\n",
              "  }\n",
              "</style>\n",
              "\n",
              "  <script>\n",
              "    async function quickchart(key) {\n",
              "      const quickchartButtonEl =\n",
              "        document.querySelector('#' + key + ' button');\n",
              "      quickchartButtonEl.disabled = true;  // To prevent multiple clicks.\n",
              "      quickchartButtonEl.classList.add('colab-df-spinner');\n",
              "      try {\n",
              "        const charts = await google.colab.kernel.invokeFunction(\n",
              "            'suggestCharts', [key], {});\n",
              "      } catch (error) {\n",
              "        console.error('Error during call to suggestCharts:', error);\n",
              "      }\n",
              "      quickchartButtonEl.classList.remove('colab-df-spinner');\n",
              "      quickchartButtonEl.classList.add('colab-df-quickchart-complete');\n",
              "    }\n",
              "    (() => {\n",
              "      let quickchartButtonEl =\n",
              "        document.querySelector('#df-324b36ab-9828-4dec-9180-e58899f229f2 button');\n",
              "      quickchartButtonEl.style.display =\n",
              "        google.colab.kernel.accessAllowed ? 'block' : 'none';\n",
              "    })();\n",
              "  </script>\n",
              "</div>\n",
              "    </div>\n",
              "  </div>\n"
            ]
          },
          "metadata": {},
          "execution_count": 7
        }
      ],
      "source": [
        "nba = pd.read_csv(r'/content/nba_games.csv')\n",
        "nba.head()"
      ]
    },
    {
      "cell_type": "code",
      "execution_count": 8,
      "metadata": {
        "id": "BUAGpybuvcc7"
      },
      "outputs": [],
      "source": [
        "# Subset Data to 2010 Season, 2014 Season\n",
        "nba_2010 = nba[nba.year_id == 2010]\n",
        "nba_2014 = nba[nba.year_id == 2014]"
      ]
    },
    {
      "cell_type": "markdown",
      "metadata": {
        "id": "FWT4npQdvcc7"
      },
      "source": [
        "### Task 1\n",
        "The data has been subset for you into two smaller datasets: games from 2010 (named nba_2010) and games from 2014 (named nba_2014). To start, let’s focus on the 2010 data.\n",
        "\n",
        "Suppose you want to compare the knicks to the nets with respect to points earned per game. Using the pts column from the nba_2010 DataFrame, create two series named knicks_pts (fran_id = \"Knicks\") and nets_pts(fran_id = \"Nets\") that represent the points each team has scored in their games.\n"
      ]
    },
    {
      "cell_type": "code",
      "execution_count": 13,
      "metadata": {
        "colab": {
          "base_uri": "https://localhost:8080/"
        },
        "id": "7SCSK5skvcc7",
        "outputId": "87d378e5-afe8-4c72-efa2-7f85673e9eab"
      },
      "outputs": [
        {
          "output_type": "stream",
          "name": "stdout",
          "text": [
            "21719     93\n",
            "21725    100\n",
            "21728    127\n",
            "21734    117\n",
            "21739     89\n",
            "        ... \n",
            "22102    105\n",
            "22110    103\n",
            "22116     98\n",
            "22118    114\n",
            "22126    113\n",
            "Name: pts, Length: 82, dtype: int64 21720     93\n",
            "21727     85\n",
            "21730    104\n",
            "21733     68\n",
            "21738     94\n",
            "        ... \n",
            "22103     89\n",
            "22108    127\n",
            "22113    102\n",
            "22117     95\n",
            "22124     86\n",
            "Name: pts, Length: 82, dtype: int64\n"
          ]
        }
      ],
      "source": [
        "knicks_pts = nba_2010[nba_2010.fran_id == 'Knicks'].pts\n",
        "nets_pts = nba_2010[nba_2010.fran_id == 'Nets'].pts\n",
        "print(knicks_pts, nets_pts)"
      ]
    },
    {
      "cell_type": "markdown",
      "metadata": {
        "id": "eK_ICcPzvcc7"
      },
      "source": [
        "### Task 2\n",
        "\n",
        "Calculate the difference between the two teams’ average points scored and save the result as diff_means_2010. Based on this value, do you think fran_id and pts are associated? Why or why not?\n"
      ]
    },
    {
      "cell_type": "code",
      "execution_count": 15,
      "metadata": {
        "colab": {
          "base_uri": "https://localhost:8080/"
        },
        "id": "uzUJ80ecvcc8",
        "outputId": "0939c451-5fb5-4d20-ef91-2f256b5f6077"
      },
      "outputs": [
        {
          "output_type": "stream",
          "name": "stdout",
          "text": [
            "9.731707317073173\n"
          ]
        }
      ],
      "source": [
        "diff_means_2010 = knicks_pts.mean() - nets_pts.mean()\n",
        "print(diff_means_2010)\n",
        "#Knicks had a better points average for the season then the nets"
      ]
    },
    {
      "cell_type": "markdown",
      "metadata": {
        "id": "jrq9N9Kjvcc8"
      },
      "source": [
        "### Task 3\n",
        "Rather than comparing means, it’s useful look at the full distribution of values to understand whether a difference in means is meaningful. Create a set of overlapping histograms that can be used to compare the points scored for the Knicks compared to the Nets. Use the series you created in the previous step (1) and the code below to create the plot. Do the distributions appear to be the same?\n"
      ]
    },
    {
      "cell_type": "code",
      "execution_count": 20,
      "metadata": {
        "colab": {
          "base_uri": "https://localhost:8080/",
          "height": 469
        },
        "id": "OXq0d9Nwvcc8",
        "outputId": "465f1ac5-61bc-45be-9a88-c2c4b83668a0"
      },
      "outputs": [
        {
          "output_type": "display_data",
          "data": {
            "text/plain": [
              "<Figure size 640x480 with 1 Axes>"
            ],
            "image/png": "[encoded data removed]"
          },
          "metadata": {}
        },
        {
          "output_type": "display_data",
          "data": {
            "text/plain": [
              "<Figure size 640x480 with 0 Axes>"
            ]
          },
          "metadata": {}
        }
      ],
      "source": [
        "plt.hist(knicks_pts, alpha = .8, density = True, label = 'Knicks')\n",
        "plt.hist(nets_pts, alpha = .8, density = True, label = 'Nets')\n",
        "plt.title('2010 Season Comparison of the Brooklyn Nets and NY Knicks')\n",
        "plt.legend()\n",
        "plt.show()\n",
        "plt.clf()"
      ]
    },
    {
      "cell_type": "markdown",
      "metadata": {
        "id": "efWWv_iuvcc8"
      },
      "source": [
        "### Task 4\n",
        "Now, let’s compare the 2010 games to 2014. Replicate the steps from Tasks 2 and 3 using `nba_2014`. First, calculate the mean difference between the two teams points scored. Save and print the value as `diff_means_2014`. Did the difference in points get larger or smaller in 2014? Then, plot the overlapping histograms. Does the mean difference you calculated make sense?\n"
      ]
    },
    {
      "cell_type": "code",
      "execution_count": 25,
      "metadata": {
        "colab": {
          "base_uri": "https://localhost:8080/"
        },
        "id": "JukQpAGcvcc8",
        "outputId": "408f9e53-e424-4d6d-fd01-824c5c8badd2"
      },
      "outputs": [
        {
          "output_type": "stream",
          "name": "stdout",
          "text": [
            "0.44706798131809933\n"
          ]
        }
      ],
      "source": [
        "knicks_pts_14 = nba_2014[nba_2014.fran_id == 'Knicks'].pts\n",
        "nets_pts_14 = nba_2014[nba_2014.fran_id == 'Nets'].pts\n",
        "diff_means_2014 = knicks_pts_14.mean() - nets_pts_14.mean()\n",
        "print(diff_means_2014)\n"
      ]
    },
    {
      "cell_type": "code",
      "source": [
        "plt.hist(knicks_pts_14, alpha = .8, density = True, label = 'Knicks')\n",
        "plt.hist(nets_pts_14, alpha = .8, density = True, label = 'Nets')\n",
        "plt.title('2014 Season Comparison of the Brooklyn Nets and NY Knicks')\n",
        "plt.legend()\n",
        "plt.show()\n",
        "plt.clf()"
      ],
      "metadata": {
        "colab": {
          "base_uri": "https://localhost:8080/",
          "height": 469
        },
        "id": "3M1_OD4F3UkS",
        "outputId": "45445e90-3f71-461c-b58e-97f6884be7d6"
      },
      "execution_count": 24,
      "outputs": [
        {
          "output_type": "display_data",
          "data": {
            "text/plain": [
              "<Figure size 640x480 with 1 Axes>"
            ],
            "image/png": "[encoded data removed]"
          },
          "metadata": {}
        },
        {
          "output_type": "display_data",
          "data": {
            "text/plain": [
              "<Figure size 640x480 with 0 Axes>"
            ]
          },
          "metadata": {}
        }
      ]
    },
    {
      "cell_type": "markdown",
      "metadata": {
        "id": "QAtfI72Ovcc8"
      },
      "source": [
        "### Task 5\n",
        "For the remainder of this project, we’ll focus on data from 2010. Let’s now include all teams in the dataset and investigate the relationship between franchise and points scored per game.\n",
        "\n",
        "Using nba_2010, generate side-by-side boxplots with points scored (pts) on the y-axis and team (fran_id) on the x-axis. Is there any overlap between the boxes? Does this chart suggest that fran_id and pts are associated? Which pairs of teams, if any, earn different average scores per game?\n"
      ]
    },
    {
      "cell_type": "code",
      "execution_count": 27,
      "metadata": {
        "colab": {
          "base_uri": "https://localhost:8080/",
          "height": 468
        },
        "id": "Yp4FHfXEvcc8",
        "outputId": "06e36513-6dc8-436d-d2a0-ce747b9d73f3"
      },
      "outputs": [
        {
          "output_type": "display_data",
          "data": {
            "text/plain": [
              "<Figure size 640x480 with 1 Axes>"
            ],
            "image/png": "[encoded data removed]"
          },
          "metadata": {}
        },
        {
          "output_type": "display_data",
          "data": {
            "text/plain": [
              "<Figure size 640x480 with 0 Axes>"
            ]
          },
          "metadata": {}
        }
      ],
      "source": [
        "sns.boxplot(data=nba_2010, x='fran_id', y='pts')\n",
        "plt.show()\n",
        "plt.clf()"
      ]
    },
    {
      "cell_type": "markdown",
      "source": [
        "Thunder and Spurs seem to have pretty similar seasons. Averaging the same and having similar upper and lower bounds. The nets had the worst season of all 5 teams. Knicks had the best being slightly better then Thunder and Spurs.\n"
      ],
      "metadata": {
        "id": "KChJ3Oo76gnY"
      }
    },
    {
      "cell_type": "markdown",
      "metadata": {
        "id": "4Ow1y6W8vcc8"
      },
      "source": [
        "### Task 6\n",
        "We'd like to know if teams tend to win more games at home compared to away.\n",
        "\n",
        "The variable, `game_result`, indicates whether a team won a particular game ('W' stands for “win” and 'L' stands for “loss”). The variable, `game_location`, indicates whether a team was playing at home or away ('H' stands for “home” and 'A' stands for “away”).\n",
        "\n",
        "Data scientists will often calculate a contingency table of frequencies to help them determine if categorical variables are associated. Calculate a table of frequencies that shows the counts of game_result and game_location.\n",
        "\n",
        "Save your result as `location_result_freq` and print your result. Based on this table, do you think the variables are associated?`\n"
      ]
    },
    {
      "cell_type": "code",
      "execution_count": 30,
      "metadata": {
        "colab": {
          "base_uri": "https://localhost:8080/"
        },
        "id": "CiOBUO2yvcc8",
        "outputId": "e68f4772-be66-4ea5-f8f3-45473de24eb4"
      },
      "outputs": [
        {
          "output_type": "stream",
          "name": "stdout",
          "text": [
            "game_location    A    H\n",
            "game_result            \n",
            "L              133  105\n",
            "W               92  120\n"
          ]
        }
      ],
      "source": [
        "location_result_freq = pd.crosstab(nba_2010.game_result, nba_2010.game_location)\n",
        "print(location_result_freq)"
      ]
    },
    {
      "cell_type": "markdown",
      "source": [
        "Yes the variables are associated, it looks like there are more wins home then there are away."
      ],
      "metadata": {
        "id": "XgJPUCjH7n1T"
      }
    },
    {
      "cell_type": "code",
      "source": [],
      "metadata": {
        "id": "cXxxvqsk7uut"
      },
      "execution_count": null,
      "outputs": []
    },
    {
      "cell_type": "markdown",
      "metadata": {
        "id": "Vt9QURDUvcc9"
      },
      "source": [
        "### Task 7\n",
        "\n",
        "Convert this table of frequencies to a table of proportions and save the result as `location_result_proportions`."
      ]
    },
    {
      "cell_type": "code",
      "execution_count": 32,
      "metadata": {
        "colab": {
          "base_uri": "https://localhost:8080/"
        },
        "id": "X_QXt3cwvcc9",
        "outputId": "4a2702dd-9c4e-4343-c59e-3c2aa5ce8518"
      },
      "outputs": [
        {
          "output_type": "stream",
          "name": "stdout",
          "text": [
            "game_location         A         H\n",
            "game_result                      \n",
            "L              0.295556  0.233333\n",
            "W              0.204444  0.266667\n"
          ]
        }
      ],
      "source": [
        "location_result_proportions = location_result_freq/len(nba_2010)\n",
        "print(location_result_proportions)"
      ]
    },
    {
      "cell_type": "markdown",
      "metadata": {
        "id": "9OznSJzyvcc9"
      },
      "source": [
        "### Task 8\n",
        "Using the contingency table created above (Task 6), calculate the expected contingency table (if there were no association) and the Chi-Square statistic.\n",
        "\n",
        "Does the actual contingency table look similar to the expected table — or different? Based on this output, do you think there is an association between these variables?\n"
      ]
    },
    {
      "cell_type": "code",
      "execution_count": 35,
      "metadata": {
        "colab": {
          "base_uri": "https://localhost:8080/"
        },
        "id": "E_MO8Tqkvcc9",
        "outputId": "2d3f622f-c4fa-420e-cde9-71febc8f7026"
      },
      "outputs": [
        {
          "output_type": "stream",
          "name": "stdout",
          "text": [
            "6.501704455367053\n",
            "[[119. 119.]\n",
            " [106. 106.]]\n"
          ]
        }
      ],
      "source": [
        "chi2, pval, dof, expected = chi2_contingency(location_result_freq)\n",
        "print(chi2)\n",
        "print(expected)"
      ]
    },
    {
      "cell_type": "markdown",
      "metadata": {
        "id": "yCu6zkZNvcc9"
      },
      "source": [
        "*For a 2x2 table, Chi-squared greater than about 4 indicates an association. We're not there*"
      ]
    },
    {
      "cell_type": "markdown",
      "metadata": {
        "id": "oqeOtHRtvcc9"
      },
      "source": [
        "### Task 9\n",
        "\n",
        "For each game, 538 has calculated the probability that each team will win the game. We want to know if teams with a higher probability of winning (according to 538) also tend to win games by more points.\n",
        "\n",
        "In the data, 538's prediction is saved as `forecast`. The `point_diff` column gives the margin of victory/defeat for each team (positive values mean that the team won; negative values mean that they lost).\n",
        "\n",
        "Using `nba_2010`, calculate the covariance between `forecast` (538's projected win probability) and `point_diff` (the margin of victory/defeat) in the dataset. Save and print your result. Looking at the matrix, what is the covariance between these two variables?\n"
      ]
    },
    {
      "cell_type": "code",
      "execution_count": 38,
      "metadata": {
        "colab": {
          "base_uri": "https://localhost:8080/"
        },
        "id": "lDC8OqDWvcc9",
        "outputId": "6dc0f73b-4edb-4af0-cb18-2bbcc8f6c558"
      },
      "outputs": [
        {
          "output_type": "execute_result",
          "data": {
            "text/plain": [
              "array([[  0.05,   1.37],\n",
              "       [  1.37, 186.56]])"
            ]
          },
          "metadata": {},
          "execution_count": 38
        }
      ],
      "source": [
        "point_diff_forecast_cov = np.cov(nba_2010.forecast, nba_2010.point_diff)\n",
        "point_diff_forecast_cov"
      ]
    },
    {
      "cell_type": "markdown",
      "metadata": {
        "id": "228VcDSEvcc9"
      },
      "source": [
        "### Task 10\n",
        "\n",
        "Because 538’s forecast variable is reported as a probability (not a binary), we can calculate the strength of the correlation.\n",
        "\n",
        "Using nba_2010, calculate the correlation between `forecast` and `point_diff`. Call this `point_diff_forecast_corr`. Save and print your result. Does this value suggest an association between the two variables?\n"
      ]
    },
    {
      "cell_type": "code",
      "execution_count": 40,
      "metadata": {
        "colab": {
          "base_uri": "https://localhost:8080/"
        },
        "id": "a5gwLaPJvcc9",
        "outputId": "2119bfd5-46c1-4e0a-d2af-8590e231725a"
      },
      "outputs": [
        {
          "output_type": "execute_result",
          "data": {
            "text/plain": [
              "0.4402088708468081"
            ]
          },
          "metadata": {},
          "execution_count": 40
        }
      ],
      "source": [
        "point_diff_forecast_corr, p = pearsonr(nba_2010.point_diff, nba_2010.forecast)\n",
        "point_diff_forecast_corr"
      ]
    },
    {
      "cell_type": "markdown",
      "metadata": {
        "id": "Xo3A9FY1vcc9"
      },
      "source": [
        "### Task 11\n",
        "\n",
        "Generate a scatter plot of `forecast` (on the x-axis) and `point_diff` (on the y-axis). Does the correlation value make sense?"
      ]
    },
    {
      "cell_type": "code",
      "execution_count": 44,
      "metadata": {
        "colab": {
          "base_uri": "https://localhost:8080/",
          "height": 489
        },
        "id": "3Tye8PS2vcc9",
        "outputId": "fa7a1773-fbd7-48df-d5a9-121dd04b4c28"
      },
      "outputs": [
        {
          "output_type": "display_data",
          "data": {
            "text/plain": [
              "<Figure size 640x480 with 1 Axes>"
            ],
            "image/png": "[encoded data removed]"
          },
          "metadata": {}
        },
        {
          "output_type": "display_data",
          "data": {
            "text/plain": [
              "<Figure size 640x480 with 0 Axes>"
            ]
          },
          "metadata": {}
        }
      ],
      "source": [
        "sns.scatterplot(x = nba_2010.forecast, y = nba_2010.point_diff)\n",
        "plt.xlabel('Forecast')\n",
        "plt.ylabel('Points Difference')\n",
        "plt.title('Points difference vs forecast')\n",
        "plt.show()\n",
        "plt.clf()"
      ]
    },
    {
      "cell_type": "code",
      "execution_count": null,
      "metadata": {
        "id": "uN5eqNojvcc9"
      },
      "outputs": [],
      "source": []
    }
  ],
  "metadata": {
    "kernelspec": {
      "display_name": "Python 3",
      "language": "python",
      "name": "python3"
    },
    "language_info": {
      "codemirror_mode": {
        "name": "ipython",
        "version": 3
      },
      "file_extension": ".py",
      "mimetype": "text/x-python",
      "name": "python",
      "nbconvert_exporter": "python",
      "pygments_lexer": "ipython3",
      "version": "3.8.5"
    },
    "colab": {
      "provenance": [],
      "include_colab_link": true
    }
  },
  "nbformat": 4,
  "nbformat_minor": 0
}